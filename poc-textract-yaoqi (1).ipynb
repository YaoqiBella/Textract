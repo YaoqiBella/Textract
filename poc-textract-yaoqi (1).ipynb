{
 "cells": [
  {
   "cell_type": "code",
   "execution_count": 8,
   "id": "275dab0b",
   "metadata": {},
   "outputs": [
    {
     "name": "stdout",
     "output_type": "stream",
     "text": [
      "Requirement already satisfied: amazon-textract-caller in /home/ec2-user/anaconda3/envs/python3/lib/python3.10/site-packages (0.2.1)\n",
      "Requirement already satisfied: boto3>=1.26.35 in /home/ec2-user/anaconda3/envs/python3/lib/python3.10/site-packages (from amazon-textract-caller) (1.28.57)\n",
      "Requirement already satisfied: botocore in /home/ec2-user/anaconda3/envs/python3/lib/python3.10/site-packages (from amazon-textract-caller) (1.31.57)\n",
      "Requirement already satisfied: amazon-textract-response-parser>=0.1.39 in /home/ec2-user/anaconda3/envs/python3/lib/python3.10/site-packages (from amazon-textract-caller) (1.0.1)\n",
      "Requirement already satisfied: marshmallow<4,>=3.14 in /home/ec2-user/anaconda3/envs/python3/lib/python3.10/site-packages (from amazon-textract-response-parser>=0.1.39->amazon-textract-caller) (3.20.1)\n",
      "Requirement already satisfied: jmespath<2.0.0,>=0.7.1 in /home/ec2-user/anaconda3/envs/python3/lib/python3.10/site-packages (from boto3>=1.26.35->amazon-textract-caller) (1.0.1)\n",
      "Requirement already satisfied: s3transfer<0.8.0,>=0.7.0 in /home/ec2-user/anaconda3/envs/python3/lib/python3.10/site-packages (from boto3>=1.26.35->amazon-textract-caller) (0.7.0)\n",
      "Requirement already satisfied: python-dateutil<3.0.0,>=2.1 in /home/ec2-user/anaconda3/envs/python3/lib/python3.10/site-packages (from botocore->amazon-textract-caller) (2.8.2)\n",
      "Requirement already satisfied: urllib3<1.27,>=1.25.4 in /home/ec2-user/anaconda3/envs/python3/lib/python3.10/site-packages (from botocore->amazon-textract-caller) (1.26.14)\n",
      "Requirement already satisfied: packaging>=17.0 in /home/ec2-user/anaconda3/envs/python3/lib/python3.10/site-packages (from marshmallow<4,>=3.14->amazon-textract-response-parser>=0.1.39->amazon-textract-caller) (21.3)\n",
      "Requirement already satisfied: six>=1.5 in /home/ec2-user/anaconda3/envs/python3/lib/python3.10/site-packages (from python-dateutil<3.0.0,>=2.1->botocore->amazon-textract-caller) (1.16.0)\n",
      "Requirement already satisfied: pyparsing!=3.0.5,>=2.0.2 in /home/ec2-user/anaconda3/envs/python3/lib/python3.10/site-packages (from packaging>=17.0->marshmallow<4,>=3.14->amazon-textract-response-parser>=0.1.39->amazon-textract-caller) (3.0.9)\n",
      "Requirement already satisfied: amazon-textract-response-parser in /home/ec2-user/anaconda3/envs/python3/lib/python3.10/site-packages (1.0.1)\n",
      "Collecting amazon-textract-response-parser\n",
      "  Obtaining dependency information for amazon-textract-response-parser from https://files.pythonhosted.org/packages/8f/9c/3e8fabe2c546aa3f8d052ef0ad3c425de184d7876ecabb38d87ed836378c/amazon_textract_response_parser-1.0.2-py2.py3-none-any.whl.metadata\n",
      "  Downloading amazon_textract_response_parser-1.0.2-py2.py3-none-any.whl.metadata (11 kB)\n",
      "Requirement already satisfied: boto3 in /home/ec2-user/anaconda3/envs/python3/lib/python3.10/site-packages (from amazon-textract-response-parser) (1.28.57)\n",
      "Requirement already satisfied: marshmallow<4,>=3.14 in /home/ec2-user/anaconda3/envs/python3/lib/python3.10/site-packages (from amazon-textract-response-parser) (3.20.1)\n",
      "Requirement already satisfied: packaging>=17.0 in /home/ec2-user/anaconda3/envs/python3/lib/python3.10/site-packages (from marshmallow<4,>=3.14->amazon-textract-response-parser) (21.3)\n",
      "Requirement already satisfied: botocore<1.32.0,>=1.31.57 in /home/ec2-user/anaconda3/envs/python3/lib/python3.10/site-packages (from boto3->amazon-textract-response-parser) (1.31.57)\n",
      "Requirement already satisfied: jmespath<2.0.0,>=0.7.1 in /home/ec2-user/anaconda3/envs/python3/lib/python3.10/site-packages (from boto3->amazon-textract-response-parser) (1.0.1)\n",
      "Requirement already satisfied: s3transfer<0.8.0,>=0.7.0 in /home/ec2-user/anaconda3/envs/python3/lib/python3.10/site-packages (from boto3->amazon-textract-response-parser) (0.7.0)\n",
      "Requirement already satisfied: python-dateutil<3.0.0,>=2.1 in /home/ec2-user/anaconda3/envs/python3/lib/python3.10/site-packages (from botocore<1.32.0,>=1.31.57->boto3->amazon-textract-response-parser) (2.8.2)\n",
      "Requirement already satisfied: urllib3<1.27,>=1.25.4 in /home/ec2-user/anaconda3/envs/python3/lib/python3.10/site-packages (from botocore<1.32.0,>=1.31.57->boto3->amazon-textract-response-parser) (1.26.14)\n",
      "Requirement already satisfied: pyparsing!=3.0.5,>=2.0.2 in /home/ec2-user/anaconda3/envs/python3/lib/python3.10/site-packages (from packaging>=17.0->marshmallow<4,>=3.14->amazon-textract-response-parser) (3.0.9)\n",
      "Requirement already satisfied: six>=1.5 in /home/ec2-user/anaconda3/envs/python3/lib/python3.10/site-packages (from python-dateutil<3.0.0,>=2.1->botocore<1.32.0,>=1.31.57->boto3->amazon-textract-response-parser) (1.16.0)\n",
      "Downloading amazon_textract_response_parser-1.0.2-py2.py3-none-any.whl (29 kB)\n",
      "Installing collected packages: amazon-textract-response-parser\n",
      "  Attempting uninstall: amazon-textract-response-parser\n",
      "    Found existing installation: amazon-textract-response-parser 1.0.1\n",
      "    Uninstalling amazon-textract-response-parser-1.0.1:\n",
      "      Successfully uninstalled amazon-textract-response-parser-1.0.1\n",
      "Successfully installed amazon-textract-response-parser-1.0.2\n"
     ]
    }
   ],
   "source": [
    "!python -m pip install amazon-textract-caller --upgrade\n",
    "!python -m pip install amazon-textract-response-parser --upgrade"
   ]
  },
  {
   "cell_type": "code",
   "execution_count": 9,
   "id": "8f71d813",
   "metadata": {},
   "outputs": [],
   "source": [
    "import boto3\n",
    "from IPython.display import Image, display\n",
    "from trp import Document\n",
    "from PIL import Image as PImage, ImageDraw\n",
    "import time\n",
    "from IPython.display import IFrame"
   ]
  },
  {
   "cell_type": "code",
   "execution_count": 10,
   "id": "ef6c1df7",
   "metadata": {},
   "outputs": [],
   "source": [
    "# Curent AWS Region. Use this to choose corresponding S3 bucket with sample content\n",
    "\n",
    "mySession = boto3.session.Session()\n",
    "awsRegion = mySession.region_name"
   ]
  },
  {
   "cell_type": "code",
   "execution_count": 11,
   "id": "44fbc4cf",
   "metadata": {},
   "outputs": [],
   "source": [
    "# S3 bucket that contains sample documents\n",
    "\n",
    "s3BucketName = \"s3BucketName_test\""
   ]
  },
  {
   "cell_type": "code",
   "execution_count": 12,
   "id": "229552ff",
   "metadata": {},
   "outputs": [],
   "source": [
    "# Amazon S3 client\n",
    "s3 = boto3.client('s3')\n",
    "\n",
    "# Amazon Textract client\n",
    "textract = boto3.client('textract')"
   ]
  },
  {
   "cell_type": "code",
   "execution_count": 13,
   "id": "ab141ffd",
   "metadata": {},
   "outputs": [],
   "source": [
    "documentName = \"input_1140169888_2023-10-2417:27:02.pdf\""
   ]
  },
  {
   "cell_type": "code",
   "execution_count": 14,
   "id": "b29d308c",
   "metadata": {},
   "outputs": [],
   "source": [
    "# Step 1: Call Amazon Textract\n",
    "response = textract.analyze_document(\n",
    "    Document={\n",
    "        'S3Object': {\n",
    "            'Bucket': s3BucketName,\n",
    "            'Name': documentName\n",
    "        }\n",
    "    },\n",
    "    FeatureTypes=[\"TABLES\", \"FORMS\"])"
   ]
  },
  {
   "cell_type": "code",
   "execution_count": 1,
   "id": "34a7c0a0",
   "metadata": {},
   "outputs": [
    {
     "ename": "SyntaxError",
     "evalue": "incomplete input (1588495340.py, line 21)",
     "output_type": "error",
     "traceback": [
      "\u001B[0;36m  Cell \u001B[0;32mIn[1], line 21\u001B[0;36m\u001B[0m\n\u001B[0;31m    #                 print(\"Table[{}][{}] = {}\".format(r, c, cell.text))\u001B[0m\n\u001B[0m                                                                         ^\u001B[0m\n\u001B[0;31mSyntaxError\u001B[0m\u001B[0;31m:\u001B[0m incomplete input\n"
     ]
    }
   ],
   "source": [
    "# Step 2: Create Amazon Textract Results Parser \n",
    "doc = Document(response)\n",
    "for page in doc.pages:\n",
    "\n",
    "    # Print lines and words\n",
    "    for line in page.lines:\n",
    "        print(\"Line: {}\".format(line.text))\n",
    "#         if identifier in line.text:\n",
    "#             print(f\"This pdf is for identifier: {identifier}\")\n",
    "            \n",
    "    # Print forms fields\n",
    "    for field in page.form.fields:\n",
    "        key_text = field.key.text if field.key and field.key.text else \"NULL\"\n",
    "        value_text = field.value.text if field.value and field.value.text else \"NULL\"\n",
    "#         print(\"Field: Key: {}, Value: {}\".format(key_text, value_text))\n",
    "\n",
    "     # Print tables\n",
    "    for table in page.tables:\n",
    "        for r, row in enumerate(table.rows):\n",
    "            for c, cell in enumerate(row.cells):\n",
    "                print(\"Table[{}][{}] = {}\".format(r, c, cell.text))"
   ]
  },
  {
   "cell_type": "code",
   "execution_count": 2,
   "id": "436fb669",
   "metadata": {},
   "outputs": [
    {
     "ename": "NameError",
     "evalue": "name 'doc' is not defined",
     "output_type": "error",
     "traceback": [
      "\u001B[0;31m---------------------------------------------------------------------------\u001B[0m",
      "\u001B[0;31mNameError\u001B[0m                                 Traceback (most recent call last)",
      "Cell \u001B[0;32mIn[2], line 9\u001B[0m\n\u001B[1;32m      7\u001B[0m coordinate_total_patient_resp \u001B[38;5;241m=\u001B[39m [\u001B[38;5;241m7\u001B[39m, \u001B[38;5;241m7\u001B[39m]\n\u001B[1;32m      8\u001B[0m fields \u001B[38;5;241m=\u001B[39m {}\n\u001B[0;32m----> 9\u001B[0m \u001B[38;5;28;01mfor\u001B[39;00m page \u001B[38;5;129;01min\u001B[39;00m \u001B[43mdoc\u001B[49m\u001B[38;5;241m.\u001B[39mpages:\n\u001B[1;32m     10\u001B[0m \n\u001B[1;32m     11\u001B[0m     \u001B[38;5;66;03m# Print lines and words\u001B[39;00m\n\u001B[1;32m     12\u001B[0m     count \u001B[38;5;241m=\u001B[39m \u001B[38;5;241m0\u001B[39m\n\u001B[1;32m     13\u001B[0m     address \u001B[38;5;241m=\u001B[39m \u001B[38;5;124m\"\u001B[39m\u001B[38;5;124m\"\u001B[39m\n",
      "\u001B[0;31mNameError\u001B[0m: name 'doc' is not defined"
     ]
    }
   ],
   "source": [
    "# Step 3: Fetch fields: Name(first/last); BOD; Address; $ to be paid; NPI\n",
    "# For Identifier: \"Advanced Asthma And Allergy of Nny\"\n",
    "\n",
    "identifier = \"identifier_test\"\n",
    "keys = [\"NAME:\", \"DR NAME:\", \"NPI NO:\"]\n",
    "address_lines_idx = [9, 10]\n",
    "coordinate_total_patient_resp = [7, 7]\n",
    "fields = {}\n",
    "for page in doc.pages:\n",
    "\n",
    "    # Print lines and words\n",
    "    count = 0\n",
    "    address = \"\"\n",
    "    for line in page.lines:\n",
    "        if identifier in line.text:\n",
    "            print(f\"This pdf is for identifier: {identifier}\")\n",
    "        if count in address_lines_idx:\n",
    "            address += line.text\n",
    "            address += \" \"\n",
    "        count += 1\n",
    "    print(address)\n",
    "    fields[\"ADDRESS:\"] = address\n",
    "            \n",
    "    # Get field by key\n",
    "    for key in keys:\n",
    "        field = page.form.getFieldByKey(key)\n",
    "        if(field):\n",
    "            print(\"Field: Key: {}, Value: {}\".format(field.key, field.value))      \n",
    "            fields[key] = field.value.text\n",
    "\n",
    "    for table in page.tables:\n",
    "        for r, row in enumerate(table.rows):\n",
    "            for c, cell in enumerate(row.cells):\n",
    "#                 print(\"Table[{}][{}] = {}\".format(r, c, cell.text))\n",
    "                if r == coordinate_total_patient_resp[0] and c == coordinate_total_patient_resp[1]:\n",
    "                    fields[\"Total Patient Responsibility:\"] = \"$\" + cell.text\n",
    "# print(fields)"
   ]
  },
  {
   "cell_type": "code",
   "execution_count": 18,
   "id": "123833d6",
   "metadata": {},
   "outputs": [],
   "source": [
    "# Step 4: Using json.dump() method to write data to a JSON file\n",
    "import json\n",
    "\n",
    "with open('Output_1140169888_2023-10-2417:27:02.json', 'w') as json_file:\n",
    "    json.dump(fields, json_file)"
   ]
  },
  {
   "cell_type": "code",
   "execution_count": null,
   "id": "18ee0554",
   "metadata": {},
   "outputs": [],
   "source": []
  }
 ],
 "metadata": {
  "kernelspec": {
   "display_name": "conda_python3",
   "language": "python",
   "name": "conda_python3"
  },
  "language_info": {
   "codemirror_mode": {
    "name": "ipython",
    "version": 3
   },
   "file_extension": ".py",
   "mimetype": "text/x-python",
   "name": "python",
   "nbconvert_exporter": "python",
   "pygments_lexer": "ipython3",
   "version": "3.10.12"
  }
 },
 "nbformat": 4,
 "nbformat_minor": 5
}
